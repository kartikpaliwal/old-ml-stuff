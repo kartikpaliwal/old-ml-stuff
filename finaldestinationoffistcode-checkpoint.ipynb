{
 "cells": [
  {
   "cell_type": "code",
   "execution_count": 1,
   "metadata": {},
   "outputs": [],
   "source": [
    "import pandas as pd\n",
    "import numpy as np\n",
    "import collections\n",
    "import requests\n",
    "import io\n",
    "import numpy as np"
   ]
  },
  {
   "cell_type": "code",
   "execution_count": 10,
   "metadata": {},
   "outputs": [
    {
     "data": {
      "text/plain": [
       "18625"
      ]
     },
     "execution_count": 10,
     "metadata": {},
     "output_type": "execute_result"
    }
   ],
   "source": [
    "url=\"https://raw.githubusercontent.com/kartikpaliwal/bays-classifer/master/ignew.csv\"\n",
    "s=requests.get(url).content\n",
    "\n",
    "dataAddress=pd.read_csv(io.StringIO(s.decode('utf-8')))\n",
    "\n",
    "TrainingData = dataAddress[0:int(0.75*len(dataAddress))]\n",
    "TestingData = dataAddress[(int(0.75*len(dataAddress))):]\n",
    "\n",
    "\n",
    "score = list(TrainingData.score)\n",
    "editorchoice = list(TrainingData.editors_choice)\n",
    "\n",
    "\n",
    "len(dataAddress)"
   ]
  },
  {
   "cell_type": "code",
   "execution_count": 3,
   "metadata": {},
   "outputs": [],
   "source": [
    "DataDividescoreOne = []\n",
    "DataDividescoreZero = []\n",
    "def EditorScore():\n",
    "    for i in range(len(score)):\n",
    "        if editorchoice[i] == 1:\n",
    "            DataDividescoreOne.append(score[i])\n",
    "        else:\n",
    "            DataDividescoreZero.append(score[i])\n",
    "EditorScore()"
   ]
  },
  {
   "cell_type": "code",
   "execution_count": 4,
   "metadata": {},
   "outputs": [],
   "source": [
    "def MLE(n):\n",
    "    scoreSquare = 0\n",
    "    for i in range(len(n)):\n",
    "        scoreSquare +=(n[i]**2)\n",
    "    return((1/(2*len(n))*scoreSquare))   \n",
    "\n",
    "MLE1 = MLE(DataDividescoreOne)\n",
    "MLE0 = MLE(DataDividescoreZero)"
   ]
  },
  {
   "cell_type": "code",
   "execution_count": 5,
   "metadata": {},
   "outputs": [],
   "source": [
    "def PdfRayleigh(x, MLE10):\n",
    "    return ((x/((MLE10)))*(np.e)**(-(np.square(x))/(2*((MLE10)))))"
   ]
  },
  {
   "cell_type": "markdown",
   "metadata": {},
   "source": [
    "### for i in range(0,6):\n",
    "    Userscore = float(input(\"Enter your score: \"))\n",
    "    a = PdfRayleigh(Userscore, MLE1)\n",
    "    b = a + PdfRayleigh(Userscore, MLE0)\n",
    "    BayesClassifier = a/b\n",
    "    print(BayesClassifier,\"BAyes\")"
   ]
  },
  {
   "cell_type": "code",
   "execution_count": 6,
   "metadata": {},
   "outputs": [],
   "source": [
    "#testingdata"
   ]
  },
  {
   "cell_type": "code",
   "execution_count": 12,
   "metadata": {},
   "outputs": [
    {
     "data": {
      "text/plain": [
       "4657"
      ]
     },
     "execution_count": 12,
     "metadata": {},
     "output_type": "execute_result"
    }
   ],
   "source": [
    "score_t = list(TestingData[\"score\"])\n",
    "editorchoice_t = list(TestingData.editors_choice)\n",
    "len(score_t)"
   ]
  },
  {
   "cell_type": "code",
   "execution_count": null,
   "metadata": {},
   "outputs": [],
   "source": [
    "DataDividescoreOne_t = []\n",
    "DataDividescoreZero_t = []\n",
    "def EditorScore():\n",
    "    for i in range(len(score_t)):\n",
    "        if editorchoice_t[i] == 1:\n",
    "            DataDividescoreOne_t.append(score_t[i])\n",
    "        else:\n",
    "            DataDividescoreZero_t.append(score_t[i])\n",
    "EditorScore()"
   ]
  },
  {
   "cell_type": "code",
   "execution_count": 26,
   "metadata": {
    "scrolled": true
   },
   "outputs": [
    {
     "name": "stdout",
     "output_type": "stream",
     "text": [
      "1173\n",
      "3484\n"
     ]
    }
   ],
   "source": [
    "\n",
    "ana = []\n",
    "ananot = []\n",
    "for r in range (0,len(TestingData)):\n",
    "    Userscore = (score_t[r])\n",
    "    a = PdfRayleigh(Userscore, MLE1)*(len(DataDividescoreOne_t)/len(TestingData))\n",
    "    b = a + PdfRayleigh(Userscore, MLE0)*(len(DataDividescoreZero_t)/len(TestingData))\n",
    "    n = a/b\n",
    "    if n >= 0.5000:\n",
    "        Editorchoice = 1\n",
    "    else :\n",
    "        Editorchoice = 0\n",
    "    if Editorchoice == editorchoice_t[r]:\n",
    "        ana.append(1) \n",
    "    else:\n",
    "        ananot.append(0)\n",
    "        \n",
    "print(len(ananot))\n",
    "print(len(ana))    "
   ]
  },
  {
   "cell_type": "code",
   "execution_count": 35,
   "metadata": {},
   "outputs": [],
   "source": [
    "accuracy = (len(ana))/len(score_t)*100"
   ]
  },
  {
   "cell_type": "code",
   "execution_count": 36,
   "metadata": {},
   "outputs": [
    {
     "data": {
      "text/plain": [
       "74.81211080094481"
      ]
     },
     "execution_count": 36,
     "metadata": {},
     "output_type": "execute_result"
    }
   ],
   "source": [
    "accuracy"
   ]
  },
  {
   "cell_type": "code",
   "execution_count": null,
   "metadata": {},
   "outputs": [],
   "source": []
  },
  {
   "cell_type": "code",
   "execution_count": null,
   "metadata": {},
   "outputs": [],
   "source": []
  },
  {
   "cell_type": "code",
   "execution_count": null,
   "metadata": {},
   "outputs": [],
   "source": []
  }
 ],
 "metadata": {
  "kernelspec": {
   "display_name": "Python 3",
   "language": "python",
   "name": "python3"
  },
  "language_info": {
   "codemirror_mode": {
    "name": "ipython",
    "version": 3
   },
   "file_extension": ".py",
   "mimetype": "text/x-python",
   "name": "python",
   "nbconvert_exporter": "python",
   "pygments_lexer": "ipython3",
   "version": "3.6.4"
  }
 },
 "nbformat": 4,
 "nbformat_minor": 2
}
