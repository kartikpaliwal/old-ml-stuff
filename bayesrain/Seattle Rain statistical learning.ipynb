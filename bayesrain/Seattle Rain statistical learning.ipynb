{
 "cells": [
  {
   "cell_type": "code",
   "execution_count": 3,
   "metadata": {},
   "outputs": [],
   "source": [
    "\"It is the beautiful applcation  of a bayes classifier that is a much primitive algorithm in machine learning but it was first. So i took the initiative to go for this one and in future too i'll post more crazy stuff\"\n",
    "\n",
    "import pandas as pd\n",
    "import numpy as np\n",
    "\n",
    "import requests   #for url\n",
    "import io\n",
    "\n",
    "\n",
    "url  = \"https://raw.githubusercontent.com/kartikpaliwal/Bays-classifier-Rain-prediction-multivariate/master/seattleWeather_1948-2017.csv\"\n",
    "\n",
    "s=requests.get(url).content\n",
    "AllData=pd.read_csv(io.StringIO(s.decode('utf-8')))\n",
    "\n",
    "TrainData = AllData[0:int(0.60*len(AllData))]\n",
    "TestData = AllData[(int(0.60*len(AllData))):] \n",
    "\n",
    "TestRain = list(TestData.RAIN)\n",
    "\n",
    "TrainData = np.array(TrainData)\n",
    "TestData = np.array(TestData)\n",
    "\n",
    "#Probability Rain\n",
    "TrainData1 = []                #True\n",
    "TrainData0 = []                #False\n",
    "for i in range(len(TrainData)):\n",
    "    if TrainData[i, 4] == 1:\n",
    "        TrainData1.append(TrainData[i, 1:4])\n",
    "    else:\n",
    "        TrainData0.append(TrainData[i, 1:4])\n",
    "\n",
    "TrainData1 = np.array(TrainData1)\n",
    "TrainData0 = np.array(TrainData0)\n",
    "\n",
    "PRain = len(TrainData1)/len(TrainData)\n",
    "PRainNot = (1-PRain)\n",
    "\n",
    "#MLE of mean:\n",
    "def MLEmean(N, Data):\n",
    "    return(sum(Data)/N)\n",
    "\n",
    "#For True Data:\n",
    "ThetaMeanTmax = MLEmean(len(TrainData1), TrainData1[:, 1])\n",
    "ThetaMeanTmin = MLEmean(len(TrainData1), TrainData1[:, 2])\n",
    "\n",
    "#For False Data:\n",
    "ThetaMTmax = MLEmean(len(TrainData0), TrainData0[:, 1])\n",
    "ThetaMTmin = MLEmean(len(TrainData0), TrainData0[:, 2])\n",
    "\n",
    "#MLE of Std:\n",
    "def MLEstandard(N, Data, Theta):\n",
    "    BlankList=[]\n",
    "    for i in Data:\n",
    "        std = ((i-Theta)**2)\n",
    "        BlankList.append(std)\n",
    "    return(((1/(N-1))*(sum(BlankList))))\n",
    "\n",
    "#For True Data:\n",
    "ThetaStdTmax = MLEstandard(len(TrainData1), TrainData1[:, 1], ThetaMeanTmax)\n",
    "ThetaStdTmin = MLEstandard(len(TrainData1), TrainData1[:, 2], ThetaMeanTmin)\n",
    "\n",
    "#For False Data:\n",
    "ThetaSTmax = MLEstandard(len(TrainData0), TrainData0[:, 1], ThetaMTmax)\n",
    "ThetaSTmin = MLEstandard(len(TrainData0), TrainData0[:, 2], ThetaMTmin)\n",
    "\n"
   ]
  },
  {
   "cell_type": "code",
   "execution_count": 185,
   "metadata": {},
   "outputs": [
    {
     "name": "stdout",
     "output_type": "stream",
     "text": [
      "Enter 54 45\n"
     ]
    }
   ],
   "source": [
    "#Userinput PRCPi TMAXi TMINi\n",
    "UserInput = (input(\"Enter \"))\n",
    "UserInput = np.array([float(i) for i in UserInput.split(' ')])\n",
    "UserInput = np.transpose(UserInput)\n",
    "Thetas1 = [ThetaMeanTmax, ThetaMeanTmin]\n",
    "EPower = np.matrix(UserInput-Thetas1)"
   ]
  },
  {
   "cell_type": "code",
   "execution_count": 186,
   "metadata": {},
   "outputs": [
    {
     "name": "stdout",
     "output_type": "stream",
     "text": [
      "Rain True\n"
     ]
    }
   ],
   "source": [
    "def PJoin(UInput, Mean, Variance):\n",
    "    return((1/(np.sqrt(2*np.pi*Variance)))*np.exp(-(((UInput-Mean)**2)/(2*Variance))))\n",
    "    \n",
    "TmaxIntT = (PJoin(UserInput[0], ThetaMeanTmax, ThetaStdTmax))\n",
    "TminIntT = (PJoin(UserInput[1], ThetaMeanTmin, ThetaStdTmin))\n",
    "\n",
    "TProb = TmaxIntT* TminIntT\n",
    "\n",
    "#PrcpIntF = .01\n",
    "TmaxIntF = (PJoin(UserInput[0], ThetaMTmax, ThetaSTmax))\n",
    "TminIntF = (PJoin(UserInput[1], ThetaMTmin, ThetaSTmin))\n",
    "\n",
    "FProb = TmaxIntF* TminIntF\n",
    "\n",
    "ConProbT = ((TProb*PRain)/((TProb*PRain)+(FProb*PRainNot)))\n",
    "\n",
    "ConProbF = ((FProb*PRain)/((FProb*PRain)+(TProb*PRainNot)))\n",
    "\n",
    "if ConProbT>= ConProbF:\n",
    "    print(\"Rain True\")\n",
    "else:\n",
    "    print(\"Rain False\")"
   ]
  },
  {
   "cell_type": "code",
   "execution_count": 187,
   "metadata": {},
   "outputs": [],
   "source": [
    "# testing phase begins\n",
    "TestT = (np.array([TestData[:, 2], TestData[:, 3]])).T"
   ]
  },
  {
   "cell_type": "code",
   "execution_count": 188,
   "metadata": {},
   "outputs": [],
   "source": [
    "UserInput = []\n",
    "TestP = []\n",
    "for i in TestT:\n",
    "    UserInput = i\n",
    "    Thetas1 = [ThetaMeanTmax, ThetaMeanTmin]\n",
    "    EPower = np.matrix(UserInput-Thetas1)\n",
    "\n",
    "    TmaxIntT = (PJoin(UserInput[0], ThetaMeanTmax, ThetaStdTmax))\n",
    "    TminIntT = (PJoin(UserInput[1], ThetaMeanTmin, ThetaStdTmin))\n",
    "\n",
    "    TProb = TmaxIntT* TminIntT\n",
    "\n",
    "    #PrcpIntF = .01\n",
    "    TmaxIntF = (PJoin(UserInput[0], ThetaMTmax, ThetaSTmax))\n",
    "    TminIntF = (PJoin(UserInput[1], ThetaMTmin, ThetaSTmin))\n",
    "\n",
    "    FProb = TmaxIntF* TminIntF\n",
    "\n",
    "    ConProbT = ((TProb*PRain)/((TProb*PRain)+(FProb*PRainNot)))\n",
    "\n",
    "    ConProbF = ((FProb*PRain)/((FProb*PRain)+(TProb*PRainNot)))\n",
    "\n",
    "    if ConProbT>= ConProbF:\n",
    "        TestP.append(1)\n",
    "    else:\n",
    "        TestP.append(0)\n",
    " \n",
    "AccuracyTrue = 0\n",
    "for i in range(len(TestP)):\n",
    "    if TestP[i] == TestRain[i]:\n",
    "        AccuracyTrue+=1\n",
    "\n",
    "Accuracy = (AccuracyTrue/len(TestT))*100    "
   ]
  },
  {
   "cell_type": "code",
   "execution_count": 189,
   "metadata": {},
   "outputs": [
    {
     "data": {
      "text/plain": [
       "66.9406124645338"
      ]
     },
     "execution_count": 189,
     "metadata": {},
     "output_type": "execute_result"
    }
   ],
   "source": [
    "Accuracy"
   ]
  },
  {
   "cell_type": "code",
   "execution_count": null,
   "metadata": {},
   "outputs": [],
   "source": []
  }
 ],
 "metadata": {
  "kernelspec": {
   "display_name": "Python 3",
   "language": "python",
   "name": "python3"
  },
  "language_info": {
   "codemirror_mode": {
    "name": "ipython",
    "version": 3
   },
   "file_extension": ".py",
   "mimetype": "text/x-python",
   "name": "python",
   "nbconvert_exporter": "python",
   "pygments_lexer": "ipython3",
   "version": "3.6.4"
  }
 },
 "nbformat": 4,
 "nbformat_minor": 2
}
